{
 "cells": [
  {
   "cell_type": "markdown",
   "metadata": {},
   "source": [
    "# Learning Objectives Generator"
   ]
  },
  {
   "cell_type": "code",
   "execution_count": 3,
   "metadata": {},
   "outputs": [
    {
     "data": {
      "text/html": [
       "<p>Nach durcharbeiten der OER erkennen Sie die Technologie der  QUADRIGA OERS, können diese in groben Zügen wiedergeben und können bei der Arbeit mit der OER auftretende Fehler den jeweiligen Komponenten zuordnen.\n",
       "</p><ul><li><strong>Kompetenz:</strong> 1 Basiskompetenz</li><li><strong>Datenfluss:</strong> Grundlagen</li><li><strong>Bloom-Kategorie:</strong> 1 Remember</li></ul>"
      ],
      "text/plain": [
       "<IPython.core.display.HTML object>"
      ]
     },
     "metadata": {
      "scrapbook": {
       "mime_prefix": "",
       "name": "lo-global-1"
      }
     },
     "output_type": "display_data"
    },
    {
     "data": {
      "text/plain": [
       "'Nach durcharbeiten der OER erkennen Sie die Technologie der  QUADRIGA OERS, können diese in groben Zügen wiedergeben und können bei der Arbeit mit der OER auftretende Fehler den jeweiligen Komponenten zuordnen.\\n'"
      ]
     },
     "metadata": {
      "scrapbook": {
       "mime_prefix": "",
       "name": "lo-global-1-text"
      }
     },
     "output_type": "display_data"
    },
    {
     "name": "stdout",
     "output_type": "stream",
     "text": [
      "Created and glued learning objective: lo-global-1\n"
     ]
    },
    {
     "data": {
      "text/html": [
       "<p>Nach durcharbeiten der OER können Sie selbst Inhalte in einer QUADRIGA OER anpassen und diese erweitern.\n",
       "</p><ul><li><strong>Kompetenz:</strong> 1 Basiskompetenz</li><li><strong>Datenfluss:</strong> Grundlagen</li><li><strong>Bloom-Kategorie:</strong> 3 Apply</li></ul>"
      ],
      "text/plain": [
       "<IPython.core.display.HTML object>"
      ]
     },
     "metadata": {
      "scrapbook": {
       "mime_prefix": "",
       "name": "lo-global-2"
      }
     },
     "output_type": "display_data"
    },
    {
     "data": {
      "text/plain": [
       "'Nach durcharbeiten der OER können Sie selbst Inhalte in einer QUADRIGA OER anpassen und diese erweitern.\\n'"
      ]
     },
     "metadata": {
      "scrapbook": {
       "mime_prefix": "",
       "name": "lo-global-2-text"
      }
     },
     "output_type": "display_data"
    },
    {
     "name": "stdout",
     "output_type": "stream",
     "text": [
      "Created and glued learning objective: lo-global-2\n"
     ]
    },
    {
     "data": {
      "text/html": [
       "<p>{'de': 'Nach durcharbeiten der OER können Sie ausgehend von diesem OER-Template selbst vollkommen neue OERs im Stil der QUADRIGA OERs erstellen.\\n'}</p><ul><li><strong>Kompetenz:</strong> 1 Basiskompetenz</li><li><strong>Datenfluss:</strong> Grundlagen</li><li><strong>Bloom-Kategorie:</strong> 6 Create</li></ul>"
      ],
      "text/plain": [
       "<IPython.core.display.HTML object>"
      ]
     },
     "metadata": {
      "scrapbook": {
       "mime_prefix": "",
       "name": "lo-global-3"
      }
     },
     "output_type": "display_data"
    },
    {
     "data": {
      "text/plain": [
       "{'de': 'Nach durcharbeiten der OER können Sie ausgehend von diesem OER-Template selbst vollkommen neue OERs im Stil der QUADRIGA OERs erstellen.\\n'}"
      ]
     },
     "metadata": {
      "scrapbook": {
       "mime_prefix": "",
       "name": "lo-global-3-text"
      }
     },
     "output_type": "display_data"
    },
    {
     "name": "stdout",
     "output_type": "stream",
     "text": [
      "Created and glued learning objective: lo-global-3\n"
     ]
    },
    {
     "data": {
      "text/html": [
       "<p>test</p><ul><li><strong>Kompetenz:</strong> 1 Basiskompetenz</li><li><strong>Datenfluss:</strong> Grundlagen</li><li><strong>Bloom-Kategorie:</strong> 1 Remember</li></ul>"
      ],
      "text/plain": [
       "<IPython.core.display.HTML object>"
      ]
     },
     "metadata": {
      "scrapbook": {
       "mime_prefix": "",
       "name": "lo-ch1-1"
      }
     },
     "output_type": "display_data"
    },
    {
     "data": {
      "text/plain": [
       "'test'"
      ]
     },
     "metadata": {
      "scrapbook": {
       "mime_prefix": "",
       "name": "lo-ch1-1-text"
      }
     },
     "output_type": "display_data"
    },
    {
     "name": "stdout",
     "output_type": "stream",
     "text": [
      "Created and glued learning objective: lo-ch1-1\n"
     ]
    },
    {
     "data": {
      "text/html": [
       "<p>test</p><ul><li><strong>Kompetenz:</strong> 1 Basiskompetenz</li><li><strong>Datenfluss:</strong> Grundlagen</li><li><strong>Bloom-Kategorie:</strong> 1 Remember</li></ul>"
      ],
      "text/plain": [
       "<IPython.core.display.HTML object>"
      ]
     },
     "metadata": {
      "scrapbook": {
       "mime_prefix": "",
       "name": "lo-ch2-1"
      }
     },
     "output_type": "display_data"
    },
    {
     "data": {
      "text/plain": [
       "'test'"
      ]
     },
     "metadata": {
      "scrapbook": {
       "mime_prefix": "",
       "name": "lo-ch2-1-text"
      }
     },
     "output_type": "display_data"
    },
    {
     "name": "stdout",
     "output_type": "stream",
     "text": [
      "Created and glued learning objective: lo-ch2-1\n"
     ]
    },
    {
     "data": {
      "text/html": [
       "<p>test</p><ul><li><strong>Kompetenz:</strong> 1 Basiskompetenz</li><li><strong>Datenfluss:</strong> Grundlagen</li><li><strong>Bloom-Kategorie:</strong> 1 Remember</li></ul>"
      ],
      "text/plain": [
       "<IPython.core.display.HTML object>"
      ]
     },
     "metadata": {
      "scrapbook": {
       "mime_prefix": "",
       "name": "lo-ch3-1"
      }
     },
     "output_type": "display_data"
    },
    {
     "data": {
      "text/plain": [
       "'test'"
      ]
     },
     "metadata": {
      "scrapbook": {
       "mime_prefix": "",
       "name": "lo-ch3-1-text"
      }
     },
     "output_type": "display_data"
    },
    {
     "name": "stdout",
     "output_type": "stream",
     "text": [
      "Created and glued learning objective: lo-ch3-1\n"
     ]
    },
    {
     "data": {
      "text/html": [
       "<p>test</p><ul><li><strong>Kompetenz:</strong> 1 Basiskompetenz</li><li><strong>Datenfluss:</strong> Grundlagen</li><li><strong>Bloom-Kategorie:</strong> 1 Remember</li></ul>"
      ],
      "text/plain": [
       "<IPython.core.display.HTML object>"
      ]
     },
     "metadata": {
      "scrapbook": {
       "mime_prefix": "",
       "name": "lo-ch4-1"
      }
     },
     "output_type": "display_data"
    },
    {
     "data": {
      "text/plain": [
       "'test'"
      ]
     },
     "metadata": {
      "scrapbook": {
       "mime_prefix": "",
       "name": "lo-ch4-1-text"
      }
     },
     "output_type": "display_data"
    },
    {
     "name": "stdout",
     "output_type": "stream",
     "text": [
      "Created and glued learning objective: lo-ch4-1\n"
     ]
    },
    {
     "data": {
      "text/html": [
       "<p>test</p><ul><li><strong>Kompetenz:</strong> 1 Basiskompetenz</li><li><strong>Datenfluss:</strong> Grundlagen</li><li><strong>Bloom-Kategorie:</strong> 1 Remember</li></ul>"
      ],
      "text/plain": [
       "<IPython.core.display.HTML object>"
      ]
     },
     "metadata": {
      "scrapbook": {
       "mime_prefix": "",
       "name": "lo-ch5-1"
      }
     },
     "output_type": "display_data"
    },
    {
     "data": {
      "text/plain": [
       "'test'"
      ]
     },
     "metadata": {
      "scrapbook": {
       "mime_prefix": "",
       "name": "lo-ch5-1-text"
      }
     },
     "output_type": "display_data"
    },
    {
     "name": "stdout",
     "output_type": "stream",
     "text": [
      "Created and glued learning objective: lo-ch5-1\n"
     ]
    },
    {
     "data": {
      "text/html": [
       "<p>test</p><ul><li><strong>Kompetenz:</strong> 1 Basiskompetenz</li><li><strong>Datenfluss:</strong> Grundlagen</li><li><strong>Bloom-Kategorie:</strong> 1 Remember</li></ul>"
      ],
      "text/plain": [
       "<IPython.core.display.HTML object>"
      ]
     },
     "metadata": {
      "scrapbook": {
       "mime_prefix": "",
       "name": "lo-ch6-1"
      }
     },
     "output_type": "display_data"
    },
    {
     "data": {
      "text/plain": [
       "'test'"
      ]
     },
     "metadata": {
      "scrapbook": {
       "mime_prefix": "",
       "name": "lo-ch6-1-text"
      }
     },
     "output_type": "display_data"
    },
    {
     "name": "stdout",
     "output_type": "stream",
     "text": [
      "Created and glued learning objective: lo-ch6-1\n",
      "\n",
      "Example of glued HTML content for: Nach durcharbeiten der OER erkennen Sie die Technologie der  QUADRIGA OERS, können diese in groben Zügen wiedergeben und können bei der Arbeit mit der OER auftretende Fehler den jeweiligen Komponenten zuordnen.\n",
      "\n"
     ]
    },
    {
     "data": {
      "text/html": [
       "<div style='padding: 10px; border: 1px solid #ccc; border-radius: 5px;'><p>Nach durcharbeiten der OER erkennen Sie die Technologie der  QUADRIGA OERS, können diese in groben Zügen wiedergeben und können bei der Arbeit mit der OER auftretende Fehler den jeweiligen Komponenten zuordnen.\n",
       "</p><ul><li><strong>Kompetenz:</strong> 1 Basiskompetenz</li><li><strong>Datenfluss:</strong> Grundlagen</li><li><strong>Bloom-Kategorie:</strong> 1 Remember</li></ul></div>"
      ],
      "text/plain": [
       "<IPython.core.display.HTML object>"
      ]
     },
     "metadata": {},
     "output_type": "display_data"
    }
   ],
   "source": [
    "\"\"\"\n",
    "This notebook extracts learning objectives from metadata.yml and creates \n",
    "reusable text using Jupyter Book's glue functionality with HTML display.\n",
    "\"\"\"\n",
    "import yaml\n",
    "from myst_nb import glue\n",
    "from IPython.display import HTML, display\n",
    "\n",
    "def load_metadata(file_path='metadata.yml'):\n",
    "    \"\"\"Load metadata from YAML file\"\"\"\n",
    "    with open(file_path, 'r', encoding='utf-8') as file:\n",
    "        return yaml.safe_load(file)\n",
    "\n",
    "def extract_learning_objective(lo, lo_type, index, chapter_info=None):\n",
    "    \"\"\"Extract learning objective data into a standardized dictionary\"\"\"\n",
    "    # Create base learning objective object\n",
    "    lo_obj = {\n",
    "        'type': lo_type,\n",
    "        'index': index,\n",
    "        'learning_objective': lo.get('learning-objective', '')\n",
    "    }\n",
    "    \n",
    "    # Add chapter information if available\n",
    "    if chapter_info:\n",
    "        lo_obj['chapter_index'] = chapter_info['index']\n",
    "        lo_obj['chapter_title'] = chapter_info['title']\n",
    "    \n",
    "    # Add optional metadata if they exist\n",
    "    optional_fields = {\n",
    "        'competency': 'competency',\n",
    "        'data_flow': 'data-flow',\n",
    "        'blooms_category': 'blooms-category'\n",
    "    }\n",
    "    \n",
    "    for obj_key, yaml_key in optional_fields.items():\n",
    "        if yaml_key in lo:\n",
    "            lo_obj[obj_key] = lo[yaml_key]\n",
    "    \n",
    "    return lo_obj\n",
    "\n",
    "def generate_lo_id(lo):\n",
    "    \"\"\"Generate a unique ID for the learning objective\"\"\"\n",
    "    if lo['type'] == 'global':\n",
    "        return f\"lo-global-{lo['index']}\"\n",
    "    else:\n",
    "        return f\"lo-ch{lo['chapter_index']}-{lo['index']}\"\n",
    "\n",
    "def create_html_content(lo):\n",
    "    \"\"\"Create HTML content for the learning objective\"\"\"\n",
    "    html_content = f\"<p>{lo['learning_objective']}</p>\"\n",
    "    \n",
    "    # Add metadata fields\n",
    "    metadata_items = []\n",
    "    if 'competency' in lo:\n",
    "        metadata_items.append(f\"<li><strong>Kompetenz:</strong> {lo['competency']}</li>\")\n",
    "    if 'data_flow' in lo:\n",
    "        metadata_items.append(f\"<li><strong>Datenfluss:</strong> {lo['data_flow']}</li>\")\n",
    "    if 'blooms_category' in lo:\n",
    "        metadata_items.append(f\"<li><strong>Bloom-Kategorie:</strong> {lo['blooms_category']}</li>\")\n",
    "    \n",
    "    # Add metadata list if there are any items\n",
    "    if metadata_items:\n",
    "        html_content += \"<ul>\" + \"\".join(metadata_items) + \"</ul>\"\n",
    "    \n",
    "    return html_content\n",
    "\n",
    "def glue_learning_objective(lo_id, lo_html, lo_text):\n",
    "    \"\"\"Glue learning objective content for use in Jupyter Book\"\"\"\n",
    "    glue(lo_id, lo_html)\n",
    "    glue(f\"{lo_id}-text\", lo_text)\n",
    "    print(f\"Created and glued learning objective: {lo_id}\")\n",
    "\n",
    "# Main execution flow\n",
    "def main():\n",
    "    # Step 1: Load metadata\n",
    "    metadata = load_metadata()\n",
    "    all_learning_objectives = []\n",
    "    \n",
    "    # Step 2: Extract global learning objectives\n",
    "    if 'learning-objectives' in metadata:\n",
    "        for i, lo in enumerate(metadata['learning-objectives']):\n",
    "            lo_obj = extract_learning_objective(lo, 'global', i + 1)\n",
    "            all_learning_objectives.append(lo_obj)\n",
    "    \n",
    "    # Step 3: Extract chapter learning objectives\n",
    "    if 'chapters' in metadata:\n",
    "        for ch_idx, chapter in enumerate(metadata['chapters']):\n",
    "            if 'learning-objectives' in chapter:\n",
    "                chapter_info = {\n",
    "                    'index': ch_idx + 1,\n",
    "                    'title': chapter.get('title', f'Chapter {ch_idx + 1}')\n",
    "                }\n",
    "                for lo_idx, lo in enumerate(chapter['learning-objectives']):\n",
    "                    lo_obj = extract_learning_objective(\n",
    "                        lo, 'chapter', lo_idx + 1, chapter_info\n",
    "                    )\n",
    "                    all_learning_objectives.append(lo_obj)\n",
    "    \n",
    "    # Step 4: Create and glue learning objectives\n",
    "    for lo in all_learning_objectives:\n",
    "        # Generate ID\n",
    "        lo_id = generate_lo_id(lo)\n",
    "        \n",
    "        # Create HTML content\n",
    "        html_content = create_html_content(lo)\n",
    "        html_obj = HTML(html_content)\n",
    "        \n",
    "        # Glue the content\n",
    "        glue_learning_objective(lo_id, html_obj, lo['learning_objective'])\n",
    "    \n",
    "    # Display an example for verification\n",
    "    if all_learning_objectives:\n",
    "        example = all_learning_objectives[0]\n",
    "        example_html = create_html_content(example)\n",
    "        print(\"\\nExample of glued HTML content for:\", example['learning_objective'])\n",
    "        display(HTML(f\"<div style='padding: 10px; border: 1px solid #ccc; border-radius: 5px;'>{example_html}</div>\"))\n",
    "\n",
    "# Execute the main function\n",
    "main()"
   ]
  },
  {
   "cell_type": "markdown",
   "metadata": {},
   "source": [
    "## Example Usage\n",
    "`````\n",
    "````{admonition} Lernziel \n",
    ":class: lernziele\n",
    "\n",
    "```{glue:} lo-global-1\n",
    ":doc: ../create_learning_obj.ipynb\n",
    "```\n",
    "````\n",
    "`````\n"
   ]
  },
  {
   "cell_type": "markdown",
   "metadata": {},
   "source": []
  }
 ],
 "metadata": {
  "kernelspec": {
   "display_name": "venv",
   "language": "python",
   "name": "python3"
  },
  "language_info": {
   "codemirror_mode": {
    "name": "ipython",
    "version": 3
   },
   "file_extension": ".py",
   "mimetype": "text/x-python",
   "name": "python",
   "nbconvert_exporter": "python",
   "pygments_lexer": "ipython3",
   "version": "3.13.0"
  }
 },
 "nbformat": 4,
 "nbformat_minor": 2
}
