{
 "cells": [
  {
   "cell_type": "markdown",
   "metadata": {},
   "source": [
    "# Interaktive Quizze mit JupyterQuiz\n",
    "\n",
    "Interaktive Quizze bieten direktes Feedback zu kleine Wissenseinheiten. Wir benutzen dafür das Tool [JupyterQuiz](https://github.com/jmshea/jupyterquiz), welches direkt in Jupyter Book integriert werden kann. Es ermöglicht eine Reihe verschiedener Fragentypen und stellt diese in der OER interaktiv bereit."
   ]
  }
 ],
 "metadata": {
  "language_info": {
   "name": "python"
  }
 },
 "nbformat": 4,
 "nbformat_minor": 2
}
